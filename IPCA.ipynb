{
 "cells": [
  {
   "cell_type": "code",
   "execution_count": 165,
   "id": "7f295c1f",
   "metadata": {},
   "outputs": [],
   "source": [
    "import requests\n",
    "import json\n",
    "from pathlib import Path\n",
    "import pandas as pd\n",
    "import sqlite3 as sql\n",
    "import os"
   ]
  },
  {
   "cell_type": "markdown",
   "id": "6ab4b670",
   "metadata": {},
   "source": [
    "# Coleta e Transformação de Dados do IPCA"
   ]
  },
  {
   "cell_type": "code",
   "execution_count": 150,
   "id": "0d82d7e2",
   "metadata": {},
   "outputs": [
    {
     "data": {
      "text/html": [
       "<div>\n",
       "<style scoped>\n",
       "    .dataframe tbody tr th:only-of-type {\n",
       "        vertical-align: middle;\n",
       "    }\n",
       "\n",
       "    .dataframe tbody tr th {\n",
       "        vertical-align: top;\n",
       "    }\n",
       "\n",
       "    .dataframe thead th {\n",
       "        text-align: right;\n",
       "    }\n",
       "</style>\n",
       "<table border=\"1\" class=\"dataframe\">\n",
       "  <thead>\n",
       "    <tr style=\"text-align: right;\">\n",
       "      <th></th>\n",
       "      <th>IPCA</th>\n",
       "      <th>Mês</th>\n",
       "      <th>Ano</th>\n",
       "    </tr>\n",
       "  </thead>\n",
       "  <tbody>\n",
       "    <tr>\n",
       "      <th>0</th>\n",
       "      <td>0.48</td>\n",
       "      <td>01</td>\n",
       "      <td>2012</td>\n",
       "    </tr>\n",
       "    <tr>\n",
       "      <th>1</th>\n",
       "      <td>0.48</td>\n",
       "      <td>02</td>\n",
       "      <td>2012</td>\n",
       "    </tr>\n",
       "    <tr>\n",
       "      <th>2</th>\n",
       "      <td>0.19</td>\n",
       "      <td>03</td>\n",
       "      <td>2012</td>\n",
       "    </tr>\n",
       "    <tr>\n",
       "      <th>3</th>\n",
       "      <td>0.63</td>\n",
       "      <td>04</td>\n",
       "      <td>2012</td>\n",
       "    </tr>\n",
       "    <tr>\n",
       "      <th>4</th>\n",
       "      <td>0.39</td>\n",
       "      <td>05</td>\n",
       "      <td>2012</td>\n",
       "    </tr>\n",
       "    <tr>\n",
       "      <th>...</th>\n",
       "      <td>...</td>\n",
       "      <td>...</td>\n",
       "      <td>...</td>\n",
       "    </tr>\n",
       "    <tr>\n",
       "      <th>91</th>\n",
       "      <td>0.19</td>\n",
       "      <td>08</td>\n",
       "      <td>2019</td>\n",
       "    </tr>\n",
       "    <tr>\n",
       "      <th>92</th>\n",
       "      <td>-0.01</td>\n",
       "      <td>09</td>\n",
       "      <td>2019</td>\n",
       "    </tr>\n",
       "    <tr>\n",
       "      <th>93</th>\n",
       "      <td>0.07</td>\n",
       "      <td>10</td>\n",
       "      <td>2019</td>\n",
       "    </tr>\n",
       "    <tr>\n",
       "      <th>94</th>\n",
       "      <td>0.44</td>\n",
       "      <td>11</td>\n",
       "      <td>2019</td>\n",
       "    </tr>\n",
       "    <tr>\n",
       "      <th>95</th>\n",
       "      <td>1.09</td>\n",
       "      <td>12</td>\n",
       "      <td>2019</td>\n",
       "    </tr>\n",
       "  </tbody>\n",
       "</table>\n",
       "<p>96 rows × 3 columns</p>\n",
       "</div>"
      ],
      "text/plain": [
       "     IPCA Mês   Ano\n",
       "0    0.48  01  2012\n",
       "1    0.48  02  2012\n",
       "2    0.19  03  2012\n",
       "3    0.63  04  2012\n",
       "4    0.39  05  2012\n",
       "..    ...  ..   ...\n",
       "91   0.19  08  2019\n",
       "92  -0.01  09  2019\n",
       "93   0.07  10  2019\n",
       "94   0.44  11  2019\n",
       "95   1.09  12  2019\n",
       "\n",
       "[96 rows x 3 columns]"
      ]
     },
     "execution_count": 150,
     "metadata": {},
     "output_type": "execute_result"
    }
   ],
   "source": [
    "dados = pd.DataFrame(pd.read_json(\"https://servicodados.ibge.gov.br/api/v3/agregados/1420/periodos/201201%7C201202%7C201203%7C201204%7C201205%7C201206%7C201207%7C201208%7C201209%7C201210%7C201211%7C201212%7C201301%7C201302%7C201303%7C201304%7C201305%7C201306%7C201307%7C201308%7C201309%7C201310%7C201311%7C201312%7C201401%7C201402%7C201403%7C201404%7C201405%7C201406%7C201407%7C201408%7C201409%7C201410%7C201411%7C201412%7C201501%7C201502%7C201503%7C201504%7C201505%7C201506%7C201507%7C201508%7C201509%7C201510%7C201511%7C201512%7C201601%7C201602%7C201603%7C201604%7C201605%7C201606%7C201607%7C201608%7C201609%7C201610%7C201611%7C201612%7C201701%7C201702%7C201703%7C201704%7C201705%7C201706%7C201707%7C201708%7C201709%7C201710%7C201711%7C201712%7C201801%7C201802%7C201803%7C201804%7C201805%7C201806%7C201807%7C201808%7C201809%7C201810%7C201811%7C201812%7C201901%7C201902%7C201903%7C201904%7C201905%7C201906%7C201907%7C201908%7C201909%7C201910%7C201911%7C201912/variaveis/306?localidades=N1%5Ball%5D&classificacao=315%5B7169%5D\"))\n",
    "dados = dados['resultados'][0][0]['series'][0]['serie']\n",
    "\n",
    "listaMesDados = []\n",
    "listaAnoDados = []\n",
    "listaIPCADados = []\n",
    "for data in dados:\n",
    "    listaMesDados.append(data[4:6])\n",
    "    listaAnoDados.append(data[0:4])\n",
    "    listaIPCADados.append(dados[data])\n",
    "\n",
    "listaDados = {'IPCA':listaIPCADados, 'Mês':listaMesDados, 'Ano':listaAnoDados}\n",
    "\n",
    "dados = pd.DataFrame(listaDados)\n",
    "dados"
   ]
  },
  {
   "cell_type": "markdown",
   "id": "e65fbd2c",
   "metadata": {},
   "source": [
    "# Criação do Banco de Dados"
   ]
  },
  {
   "cell_type": "code",
   "execution_count": 164,
   "id": "f09715c9",
   "metadata": {},
   "outputs": [
    {
     "name": "stdout",
     "output_type": "stream",
     "text": [
      "Endereço existe:  C:\\Users\\elias\\Downloads\\Bancos de Dados\n",
      "Banco de dados já existe.\n"
     ]
    }
   ],
   "source": [
    "endereco = Path(os.getcwd() + '\\\\Bancos de Dados\\\\')\n",
    "\n",
    "BDDW = endereco / 'IPCADW.db'\n",
    "\n",
    "if endereco.exists():\n",
    "    print('Endereço existe: ', endereco)\n",
    "    if BDDW.exists():\n",
    "        print('Banco de dados já existe.')\n",
    "    else:\n",
    "        BDDW.touch()\n",
    "        print('Banco de dados acabou de ser criado.')\n",
    "else:\n",
    "    print('Endereço não existe. Verificar o caminho.')"
   ]
  },
  {
   "cell_type": "markdown",
   "id": "0eb7ca4d",
   "metadata": {},
   "source": [
    "# Conexão com o Banco de Dados"
   ]
  },
  {
   "cell_type": "code",
   "execution_count": 170,
   "id": "ebca078e",
   "metadata": {},
   "outputs": [],
   "source": [
    "# conexão com o banco de dados\n",
    "conexaoDW = sql.connect(BDDW)\n",
    "# definição do cursor\n",
    "sqlDW = conexaoDW.cursor()"
   ]
  },
  {
   "cell_type": "markdown",
   "id": "18a53490",
   "metadata": {},
   "source": [
    "# Definição da Tabela no Banco de Dados (DDL)"
   ]
  },
  {
   "cell_type": "code",
   "execution_count": 185,
   "id": "773eb845",
   "metadata": {},
   "outputs": [
    {
     "data": {
      "text/plain": [
       "<sqlite3.Cursor at 0x2460cec57a0>"
      ]
     },
     "execution_count": 185,
     "metadata": {},
     "output_type": "execute_result"
    }
   ],
   "source": [
    "# definição das querys\n",
    "queryTabela = '''\n",
    "    CREATE TABLE IF NOT EXISTS tbDadosIPCA (\n",
    "        id INTEGER PRIMARY KEY AUTOINCREMENT,\n",
    "        IPCA REAL(2,2) NOT NULL,\n",
    "        mes VARCHAR(2) NOT NULL,\n",
    "        ano VARCHAR(4) NOT NULL  \n",
    "    )\n",
    "'''\n",
    "queryIndice = 'CREATE INDEX IF NOT EXISTS idx_tbDadosIPCA_id ON tbDadosIPCA(id)'\n",
    "\n",
    "# execução das querys\n",
    "sqlDW.execute(queryTabela)\n",
    "sqlDW.execute(queryIndice)\n"
   ]
  },
  {
   "cell_type": "markdown",
   "id": "d71c1333",
   "metadata": {},
   "source": [
    "# Carga do DF ao Banco de Dados (DML)"
   ]
  },
  {
   "cell_type": "code",
   "execution_count": 186,
   "id": "689562eb",
   "metadata": {},
   "outputs": [
    {
     "name": "stdout",
     "output_type": "stream",
     "text": [
      "Iniciando a carga de dados\n",
      "Carga de 96 registros em tbDadosIPCA finalizada\n"
     ]
    }
   ],
   "source": [
    "print('Iniciando a carga de dados')\n",
    "\n",
    "sqlDW.executemany('''INSERT INTO tbDadosIPCA (IPCA, mes, ano) VALUES (?,?,?)''', dados.values.tolist())\n",
    "conexaoDW.commit()\n",
    "\n",
    "print('Carga de', len(dados), 'registros em tbDadosIPCA finalizada')"
   ]
  },
  {
   "cell_type": "markdown",
   "id": "654090fa",
   "metadata": {},
   "source": [
    "# Validação da Carga de Dados (DQL)"
   ]
  },
  {
   "cell_type": "code",
   "execution_count": 187,
   "id": "0e3e3f61",
   "metadata": {},
   "outputs": [
    {
     "data": {
      "text/html": [
       "<div>\n",
       "<style scoped>\n",
       "    .dataframe tbody tr th:only-of-type {\n",
       "        vertical-align: middle;\n",
       "    }\n",
       "\n",
       "    .dataframe tbody tr th {\n",
       "        vertical-align: top;\n",
       "    }\n",
       "\n",
       "    .dataframe thead th {\n",
       "        text-align: right;\n",
       "    }\n",
       "</style>\n",
       "<table border=\"1\" class=\"dataframe\">\n",
       "  <thead>\n",
       "    <tr style=\"text-align: right;\">\n",
       "      <th></th>\n",
       "      <th>id</th>\n",
       "      <th>IPCA</th>\n",
       "      <th>mes</th>\n",
       "      <th>ano</th>\n",
       "    </tr>\n",
       "  </thead>\n",
       "  <tbody>\n",
       "    <tr>\n",
       "      <th>0</th>\n",
       "      <td>1</td>\n",
       "      <td>0.48</td>\n",
       "      <td>01</td>\n",
       "      <td>2012</td>\n",
       "    </tr>\n",
       "    <tr>\n",
       "      <th>1</th>\n",
       "      <td>2</td>\n",
       "      <td>0.48</td>\n",
       "      <td>02</td>\n",
       "      <td>2012</td>\n",
       "    </tr>\n",
       "    <tr>\n",
       "      <th>2</th>\n",
       "      <td>3</td>\n",
       "      <td>0.19</td>\n",
       "      <td>03</td>\n",
       "      <td>2012</td>\n",
       "    </tr>\n",
       "    <tr>\n",
       "      <th>3</th>\n",
       "      <td>4</td>\n",
       "      <td>0.63</td>\n",
       "      <td>04</td>\n",
       "      <td>2012</td>\n",
       "    </tr>\n",
       "    <tr>\n",
       "      <th>4</th>\n",
       "      <td>5</td>\n",
       "      <td>0.39</td>\n",
       "      <td>05</td>\n",
       "      <td>2012</td>\n",
       "    </tr>\n",
       "    <tr>\n",
       "      <th>...</th>\n",
       "      <td>...</td>\n",
       "      <td>...</td>\n",
       "      <td>...</td>\n",
       "      <td>...</td>\n",
       "    </tr>\n",
       "    <tr>\n",
       "      <th>91</th>\n",
       "      <td>92</td>\n",
       "      <td>0.19</td>\n",
       "      <td>08</td>\n",
       "      <td>2019</td>\n",
       "    </tr>\n",
       "    <tr>\n",
       "      <th>92</th>\n",
       "      <td>93</td>\n",
       "      <td>-0.01</td>\n",
       "      <td>09</td>\n",
       "      <td>2019</td>\n",
       "    </tr>\n",
       "    <tr>\n",
       "      <th>93</th>\n",
       "      <td>94</td>\n",
       "      <td>0.07</td>\n",
       "      <td>10</td>\n",
       "      <td>2019</td>\n",
       "    </tr>\n",
       "    <tr>\n",
       "      <th>94</th>\n",
       "      <td>95</td>\n",
       "      <td>0.44</td>\n",
       "      <td>11</td>\n",
       "      <td>2019</td>\n",
       "    </tr>\n",
       "    <tr>\n",
       "      <th>95</th>\n",
       "      <td>96</td>\n",
       "      <td>1.09</td>\n",
       "      <td>12</td>\n",
       "      <td>2019</td>\n",
       "    </tr>\n",
       "  </tbody>\n",
       "</table>\n",
       "<p>96 rows × 4 columns</p>\n",
       "</div>"
      ],
      "text/plain": [
       "    id  IPCA mes   ano\n",
       "0    1  0.48  01  2012\n",
       "1    2  0.48  02  2012\n",
       "2    3  0.19  03  2012\n",
       "3    4  0.63  04  2012\n",
       "4    5  0.39  05  2012\n",
       "..  ..   ...  ..   ...\n",
       "91  92  0.19  08  2019\n",
       "92  93 -0.01  09  2019\n",
       "93  94  0.07  10  2019\n",
       "94  95  0.44  11  2019\n",
       "95  96  1.09  12  2019\n",
       "\n",
       "[96 rows x 4 columns]"
      ]
     },
     "execution_count": 187,
     "metadata": {},
     "output_type": "execute_result"
    }
   ],
   "source": [
    "pd.read_sql('SELECT * FROM tbDadosIPCA', conexaoDW)"
   ]
  },
  {
   "cell_type": "markdown",
   "id": "a2d31b62",
   "metadata": {},
   "source": [
    "# Estudo de Cenários"
   ]
  },
  {
   "cell_type": "code",
   "execution_count": 221,
   "id": "9f7f1542",
   "metadata": {},
   "outputs": [
    {
     "data": {
      "text/html": [
       "<div>\n",
       "<style scoped>\n",
       "    .dataframe tbody tr th:only-of-type {\n",
       "        vertical-align: middle;\n",
       "    }\n",
       "\n",
       "    .dataframe tbody tr th {\n",
       "        vertical-align: top;\n",
       "    }\n",
       "\n",
       "    .dataframe thead th {\n",
       "        text-align: right;\n",
       "    }\n",
       "</style>\n",
       "<table border=\"1\" class=\"dataframe\">\n",
       "  <thead>\n",
       "    <tr style=\"text-align: right;\">\n",
       "      <th></th>\n",
       "      <th>Média IPCA</th>\n",
       "      <th>Ano</th>\n",
       "    </tr>\n",
       "  </thead>\n",
       "  <tbody>\n",
       "    <tr>\n",
       "      <th>0</th>\n",
       "      <td>0.48</td>\n",
       "      <td>2012</td>\n",
       "    </tr>\n",
       "    <tr>\n",
       "      <th>1</th>\n",
       "      <td>0.48</td>\n",
       "      <td>2013</td>\n",
       "    </tr>\n",
       "    <tr>\n",
       "      <th>2</th>\n",
       "      <td>0.52</td>\n",
       "      <td>2014</td>\n",
       "    </tr>\n",
       "    <tr>\n",
       "      <th>3</th>\n",
       "      <td>0.85</td>\n",
       "      <td>2015</td>\n",
       "    </tr>\n",
       "    <tr>\n",
       "      <th>4</th>\n",
       "      <td>0.51</td>\n",
       "      <td>2016</td>\n",
       "    </tr>\n",
       "    <tr>\n",
       "      <th>5</th>\n",
       "      <td>0.24</td>\n",
       "      <td>2017</td>\n",
       "    </tr>\n",
       "    <tr>\n",
       "      <th>6</th>\n",
       "      <td>0.31</td>\n",
       "      <td>2018</td>\n",
       "    </tr>\n",
       "    <tr>\n",
       "      <th>7</th>\n",
       "      <td>0.35</td>\n",
       "      <td>2019</td>\n",
       "    </tr>\n",
       "  </tbody>\n",
       "</table>\n",
       "</div>"
      ],
      "text/plain": [
       "   Média IPCA   Ano\n",
       "0        0.48  2012\n",
       "1        0.48  2013\n",
       "2        0.52  2014\n",
       "3        0.85  2015\n",
       "4        0.51  2016\n",
       "5        0.24  2017\n",
       "6        0.31  2018\n",
       "7        0.35  2019"
      ]
     },
     "execution_count": 221,
     "metadata": {},
     "output_type": "execute_result"
    }
   ],
   "source": [
    "# Médias anuais do IPCA na série histórica\n",
    "pd.read_sql('''SELECT round(avg(IPCA),2) as \"Média IPCA\", ano as \"Ano\" FROM tbDadosIPCA GROUP BY ano''',conexaoDW)"
   ]
  },
  {
   "cell_type": "code",
   "execution_count": 223,
   "id": "b41396b8",
   "metadata": {},
   "outputs": [
    {
     "data": {
      "text/html": [
       "<div>\n",
       "<style scoped>\n",
       "    .dataframe tbody tr th:only-of-type {\n",
       "        vertical-align: middle;\n",
       "    }\n",
       "\n",
       "    .dataframe tbody tr th {\n",
       "        vertical-align: top;\n",
       "    }\n",
       "\n",
       "    .dataframe thead th {\n",
       "        text-align: right;\n",
       "    }\n",
       "</style>\n",
       "<table border=\"1\" class=\"dataframe\">\n",
       "  <thead>\n",
       "    <tr style=\"text-align: right;\">\n",
       "      <th></th>\n",
       "      <th>Média IPCA</th>\n",
       "      <th>Ano</th>\n",
       "    </tr>\n",
       "  </thead>\n",
       "  <tbody>\n",
       "    <tr>\n",
       "      <th>0</th>\n",
       "      <td>0.24</td>\n",
       "      <td>2017</td>\n",
       "    </tr>\n",
       "  </tbody>\n",
       "</table>\n",
       "</div>"
      ],
      "text/plain": [
       "   Média IPCA   Ano\n",
       "0        0.24  2017"
      ]
     },
     "execution_count": 223,
     "metadata": {},
     "output_type": "execute_result"
    }
   ],
   "source": [
    "# Ano de menor variação no IPCA da série histórica\n",
    "pd.read_sql('''SELECT MIN(\"Média IPCA\") as \"Média IPCA\", \"Ano\" FROM (\n",
    "SELECT round(avg(IPCA),2) as \"Média IPCA\", ano as \"Ano\" FROM tbDadosIPCA GROUP BY ano ORDER BY avg(IPCA) ASC)''',conexaoDW)"
   ]
  },
  {
   "cell_type": "code",
   "execution_count": 230,
   "id": "99a2d6d9",
   "metadata": {},
   "outputs": [
    {
     "data": {
      "text/html": [
       "<div>\n",
       "<style scoped>\n",
       "    .dataframe tbody tr th:only-of-type {\n",
       "        vertical-align: middle;\n",
       "    }\n",
       "\n",
       "    .dataframe tbody tr th {\n",
       "        vertical-align: top;\n",
       "    }\n",
       "\n",
       "    .dataframe thead th {\n",
       "        text-align: right;\n",
       "    }\n",
       "</style>\n",
       "<table border=\"1\" class=\"dataframe\">\n",
       "  <thead>\n",
       "    <tr style=\"text-align: right;\">\n",
       "      <th></th>\n",
       "      <th>max(IPCA)</th>\n",
       "      <th>Mês</th>\n",
       "      <th>Ano</th>\n",
       "    </tr>\n",
       "  </thead>\n",
       "  <tbody>\n",
       "    <tr>\n",
       "      <th>0</th>\n",
       "      <td>1.35</td>\n",
       "      <td>06</td>\n",
       "      <td>2018</td>\n",
       "    </tr>\n",
       "  </tbody>\n",
       "</table>\n",
       "</div>"
      ],
      "text/plain": [
       "   max(IPCA) Mês   Ano\n",
       "0       1.35  06  2018"
      ]
     },
     "execution_count": 230,
     "metadata": {},
     "output_type": "execute_result"
    }
   ],
   "source": [
    "# Mês com maior aumento do IPCA\n",
    "pd.read_sql('''SELECT max(IPCA) as \"IPCA\", mes as \"Mês\", ano as \"Ano\" FROM tbDadosIPCA''',conexaoDW)"
   ]
  }
 ],
 "metadata": {
  "kernelspec": {
   "display_name": "Python 3",
   "language": "python",
   "name": "python3"
  },
  "language_info": {
   "codemirror_mode": {
    "name": "ipython",
    "version": 3
   },
   "file_extension": ".py",
   "mimetype": "text/x-python",
   "name": "python",
   "nbconvert_exporter": "python",
   "pygments_lexer": "ipython3",
   "version": "3.8.8"
  }
 },
 "nbformat": 4,
 "nbformat_minor": 5
}
